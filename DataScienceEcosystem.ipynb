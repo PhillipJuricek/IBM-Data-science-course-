{
  "nbformat": 4,
  "nbformat_minor": 0,
  "metadata": {
    "colab": {
      "provenance": []
    },
    "kernelspec": {
      "name": "python3",
      "display_name": "Python 3"
    },
    "language_info": {
      "name": "python"
    }
  },
  "cells": [
    {
      "cell_type": "markdown",
      "source": [
        "# Data Science Tools and Ecosystem"
      ],
      "metadata": {
        "id": "xdp55F1kjwje"
      }
    },
    {
      "cell_type": "markdown",
      "source": [
        "In this notebook, Data Science Tools and Ecosystem are summarized."
      ],
      "metadata": {
        "id": "jBABbgTZkOPA"
      }
    },
    {
      "cell_type": "markdown",
      "source": [
        "# **Objectives**\n",
        "- list popular languages for data science\n",
        "- test jupyter notebook competence\n",
        "- create ordered lists\n",
        "- using different headers\n",
        "- using bold and building tables\n"
      ],
      "metadata": {
        "id": "O40qDf81mn3h"
      }
    },
    {
      "cell_type": "markdown",
      "source": [
        "Some of the popular languages that Data Scientists use are:\n",
        "1. python\n",
        "2. R\n",
        "3. SQL"
      ],
      "metadata": {
        "id": "DjLU2H4dkdvo"
      }
    },
    {
      "cell_type": "markdown",
      "source": [
        "|Data Science Tools|\n",
        "|------------------|\n",
        "|VsCode            |\n",
        "|Hadoop            |\n",
        "|Spyder            |"
      ],
      "metadata": {
        "id": "8sPkPjpTk1KY"
      }
    },
    {
      "cell_type": "markdown",
      "source": [
        "### Below are a few examples of evaluating arithmetic epression in Python"
      ],
      "metadata": {
        "id": "KY9CdldrlnnD"
      }
    },
    {
      "cell_type": "code",
      "source": [
        "# this is a simple arithmetic expression to multiply then add integers\n",
        "(3*4)+5"
      ],
      "metadata": {
        "colab": {
          "base_uri": "https://localhost:8080/"
        },
        "id": "N424LMsVl7wH",
        "outputId": "96ca45e2-72d5-4e83-bded-209e503a15c3"
      },
      "execution_count": 5,
      "outputs": [
        {
          "output_type": "execute_result",
          "data": {
            "text/plain": [
              "17"
            ]
          },
          "metadata": {},
          "execution_count": 5
        }
      ]
    },
    {
      "cell_type": "code",
      "source": [
        "#This will convert 200 minutes to hourse by dividing by 60\n",
        "200/60"
      ],
      "metadata": {
        "colab": {
          "base_uri": "https://localhost:8080/"
        },
        "id": "5JfB8QtvmOtF",
        "outputId": "f16a2537-4d27-45c0-bdfe-bdf13e5ca93c"
      },
      "execution_count": 7,
      "outputs": [
        {
          "output_type": "execute_result",
          "data": {
            "text/plain": [
              "3.3333333333333335"
            ]
          },
          "metadata": {},
          "execution_count": 7
        }
      ]
    },
    {
      "cell_type": "markdown",
      "source": [
        "## Author\n",
        "Phillip Juricek"
      ],
      "metadata": {
        "id": "7umOiu7um8CN"
      }
    }
  ]
}